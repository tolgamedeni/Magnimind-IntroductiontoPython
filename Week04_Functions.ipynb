{
 "cells": [
  {
   "cell_type": "code",
   "execution_count": 10,
   "id": "24e065fe-4d5a-4722-b764-04762adce3e0",
   "metadata": {},
   "outputs": [
    {
     "name": "stdin",
     "output_type": "stream",
     "text": [
      "Enter a number:  9\n"
     ]
    },
    {
     "name": "stdout",
     "output_type": "stream",
     "text": [
      "The number is not a prime number\n"
     ]
    }
   ],
   "source": [
    "#Week 4, Assignment 02 Functions\n",
    "#Question01\n",
    "\n",
    "def prime_Definer(num):\n",
    "    # prime is defined with this_is_prime\n",
    "    this_is_not_prime = False\n",
    "\n",
    "    # prime numbers are greater than 1\n",
    "    if num > 1:\n",
    "        # check for factors\n",
    "        for i in range(2, num):\n",
    "            if (num % i) == 0:\n",
    "                # if factor is found, set flag to True\n",
    "                this_is_not_prime = True\n",
    "                # break out of loop\n",
    "                break\n",
    "    return this_is_not_prime\n",
    "\n",
    "if prime_Definer(int(input(\"Enter a number: \")))==True:\n",
    "    print(\"The number is not a prime number\")\n",
    "else:\n",
    "    print(\"The number is a prime number\")"
   ]
  },
  {
   "cell_type": "code",
   "execution_count": 15,
   "id": "d263013c-0210-475c-8364-594da97964ea",
   "metadata": {},
   "outputs": [
    {
     "name": "stdin",
     "output_type": "stream",
     "text": [
      "Please Enter The Celsius Value 24\n"
     ]
    },
    {
     "name": "stdout",
     "output_type": "stream",
     "text": [
      "20.1\n"
     ]
    }
   ],
   "source": [
    "#Question02\n",
    "def celsius_to_romer(cel):\n",
    "    return cel*0.525+7.5\n",
    "print(celsius_to_romer(int(input(\"Please Enter The Celsius Value\"))))"
   ]
  },
  {
   "cell_type": "code",
   "execution_count": 18,
   "id": "9f5a6db5-425b-4144-a3b8-50b494dd436a",
   "metadata": {},
   "outputs": [
    {
     "name": "stdin",
     "output_type": "stream",
     "text": [
      "Enter the First Number 4066\n",
      "Enter the Second Number 27\n"
     ]
    },
    {
     "name": "stdout",
     "output_type": "stream",
     "text": [
      "The given numbers will not fit each other\n"
     ]
    }
   ],
   "source": [
    "#Question03\n",
    "def is_divisible(num1,num2):\n",
    "    if num1%num2==0:\n",
    "        return True\n",
    "    else:\n",
    "        return False\n",
    "\n",
    "if is_divisible(int(input(\"Enter the First Number\")),int(input(\"Enter the Second Number\")))==True:\n",
    "    print(\"The wall of a given length can exactly fit an integer number of pixels of a given length\")\n",
    "else:\n",
    "    print(\"The given numbers will not fit each other\")"
   ]
  },
  {
   "cell_type": "code",
   "execution_count": 23,
   "id": "0a501f11-736a-4e8b-afec-5266d1a70105",
   "metadata": {},
   "outputs": [
    {
     "name": "stdout",
     "output_type": "stream",
     "text": [
      "0.6\n"
     ]
    }
   ],
   "source": [
    "#Question04\n",
    "def guess_blue(blue_total, red_total, blue_selected, red_selected):\n",
    "    red_probab = (red_total - red_selected) \n",
    "    blue_probab =(blue_total - blue_selected)\n",
    "    return float(blue_probab / (red_probab + blue_probab))\n",
    "    \n",
    "print(guess_blue(5,5,2,3))\n"
   ]
  },
  {
   "cell_type": "code",
   "execution_count": 30,
   "id": "0a01482b-64e4-4666-ade7-e650fc2f2401",
   "metadata": {},
   "outputs": [
    {
     "name": "stdout",
     "output_type": "stream",
     "text": [
      "Please write down what you want to buy\n"
     ]
    },
    {
     "name": "stdin",
     "output_type": "stream",
     "text": [
      " earbuds\n"
     ]
    },
    {
     "name": "stdout",
     "output_type": "stream",
     "text": [
      "Please write down number of units you want to buy\n"
     ]
    },
    {
     "name": "stdin",
     "output_type": "stream",
     "text": [
      " 0\n"
     ]
    },
    {
     "name": "stdout",
     "output_type": "stream",
     "text": [
      "You entered a value 0 or less, please restart\n"
     ]
    }
   ],
   "source": [
    "#Question05\n",
    "#This is the same answer that I gave under https://github.com/tolgamedeni/Magnimind-IntroductiontoPython/blob/main/Week03_AssignmentDictionary.ipynb\n",
    "#under Question06\n",
    "#here it is:\n",
    "def fillable(f_stock, f_merch, f_n):\n",
    "    if f_stock[f_merch] >= f_n:\n",
    "        return True\n",
    "    else:\n",
    "        return False\n",
    "\n",
    "stock={\"earbuds\": 20, \"microphones\": 72, \"speakers\": 14,\"headsets\": 59,\"webcams\": 37}\n",
    "\n",
    "print(\"Please write down what you want to buy\")\n",
    "merch=input()\n",
    "print(\"Please write down number of units you want to buy\")\n",
    "n=int(input())\n",
    "if n>=1:\n",
    "    if fillable(stock,merch,n)==True:\n",
    "        print(\"You may buy\")\n",
    "    else:\n",
    "        print(\"Not enough item\")\n",
    "else:\n",
    "    print(\"You entered a value 0 or less, please restart\")\n",
    "\n"
   ]
  },
  {
   "cell_type": "code",
   "execution_count": 37,
   "id": "cde8176d-7d37-4d66-86aa-2513128179f9",
   "metadata": {},
   "outputs": [
    {
     "name": "stdout",
     "output_type": "stream",
     "text": [
      "You do not need to take an umbrella\n",
      "You need to take an umbrella\n",
      "You do not need to take an umbrella\n",
      "You need to take an umbrella\n",
      "Something went wrong, please restart\n"
     ]
    }
   ],
   "source": [
    "#Question 06\n",
    "#For writing down the code, I made some assumptions\n",
    "#\n",
    "#    You should take an umbrella if it's currently raining or if it's cloudy and the chance of rain is over 0.20.\n",
    "#    You shouldn't take an umbrella if it's sunny unless it's more likely to rain than not.\n",
    "\n",
    "#The options for the current weather are sunny, cloudy, and rainy.\n",
    "def take_umbrella(weather,probability):\n",
    "    if weather==\"sunny\":\n",
    "        print(\"You do not need to take an umbrella\")\n",
    "    elif weather==\"cloudy\":\n",
    "        if probability>=0.20:\n",
    "            print(\"You need to take an umbrella\")\n",
    "        else:\n",
    "            print(\"You do not need to take an umbrella\")\n",
    "            \n",
    "    elif weather==\"rainy\":\n",
    "        print(\"You need to take an umbrella\")\n",
    "    else:\n",
    "        print(\"Something went wrong, please restart\")\n",
    "        \n",
    "take_umbrella(\"sunny\",0)\n",
    "take_umbrella(\"cloudy\",0.21)\n",
    "take_umbrella(\"cloudy\",0.19)\n",
    "take_umbrella(\"rainy\",1)\n",
    "take_umbrella(\"foo\",0.19)\n",
    "\n"
   ]
  },
  {
   "cell_type": "code",
   "execution_count": null,
   "id": "55080a6b-a900-4fa0-bb97-571975ddb8d0",
   "metadata": {},
   "outputs": [],
   "source": []
  }
 ],
 "metadata": {
  "kernelspec": {
   "display_name": "Python 3 (ipykernel)",
   "language": "python",
   "name": "python3"
  },
  "language_info": {
   "codemirror_mode": {
    "name": "ipython",
    "version": 3
   },
   "file_extension": ".py",
   "mimetype": "text/x-python",
   "name": "python",
   "nbconvert_exporter": "python",
   "pygments_lexer": "ipython3",
   "version": "3.10.4"
  }
 },
 "nbformat": 4,
 "nbformat_minor": 5
}
