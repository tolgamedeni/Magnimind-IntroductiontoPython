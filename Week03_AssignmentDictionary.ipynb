{
 "cells": [
  {
   "cell_type": "code",
   "execution_count": 2,
   "id": "974b1b88",
   "metadata": {},
   "outputs": [
    {
     "name": "stdout",
     "output_type": "stream",
     "text": [
      "{1: 'Monday', 2: 'Tuesday', 3: 'Wednesday', 4: 'Thursday', 5: 'Friday', 6: 'Saturday', 7: 'Sunday'}\n",
      "Please Select two Days by Writing Their Number Value\n",
      "First Day?\n",
      "2\n",
      "Second Day?\n",
      "3\n",
      "{1: 'Monday', 4: 'Thursday', 5: 'Friday', 6: 'Saturday', 7: 'Sunday'}\n"
     ]
    }
   ],
   "source": [
    "#Assignment 3 Dictionary\n",
    "#Question01\n",
    "days_of_the_week={1:\"Monday\",2:\"Tuesday\",3:\"Wednesday\",4:\"Thursday\",5:\"Friday\",6:\"Saturday\",7:\"Sunday\"}\n",
    "print(days_of_the_week)\n",
    "print(\"Please Select two Days by Writing Their Number Value\")\n",
    "print(\"First Day?\")\n",
    "first_day=int(input())\n",
    "print(\"Second Day?\")\n",
    "second_day=int(input())\n",
    "days_of_the_week.pop(first_day)\n",
    "days_of_the_week.pop(second_day)\n",
    "print(days_of_the_week)"
   ]
  },
  {
   "cell_type": "code",
   "execution_count": 31,
   "id": "47b07f6a",
   "metadata": {},
   "outputs": [
    {
     "name": "stdout",
     "output_type": "stream",
     "text": [
      "{'Tolga': '', 'Tunc': '', 'Micheal': '', 'Linda': ''}\n",
      "After Adding Kids Info\n",
      "{'Tolga': '', 'Tunc': '', 'Micheal': [['Karen', 12, 'female'], ['Greg', 7, 'male']], 'Linda': ['Susan', 6, 'female']}\n",
      "Printing Micheal's Kids Info\n",
      "First Kid: Karen \n",
      "Second Kid Greg\n",
      "List of Micheal Kids ['Karen', 'Greg']\n"
     ]
    }
   ],
   "source": [
    "#Question02 and Question03 and Question04\n",
    "personnel={\"Tolga\":\"\",\"Tunc\":\"\",\"Micheal\":\"\",\"Linda\":\"\"}\n",
    "print(personnel)\n",
    "personnel.update(Micheal=[[\"Karen\",12,\"female\"],[\"Greg\",7,\"male\"]])\n",
    "personnel.update(Linda=[\"Susan\",6,\"female\"])\n",
    "print(\"After Adding Kids Info\")\n",
    "print(personnel)\n",
    "print(\"Printing Micheal's Kids Info\")\n",
    "print(\"First Kid:\",personnel[\"Micheal\"][0][0],\"\\nSecond Kid\",personnel[\"Micheal\"][1][0])\n",
    "#Question05\n",
    "list_micheal_kids=[]\n",
    "for i in personnel:\n",
    "    if i==\"Micheal\":\n",
    "        for j in personnel[\"Micheal\"]:\n",
    "           list_micheal_kids.append(j[0])\n",
    "print(\"List of Micheal Kids\",list_micheal_kids)\n"
   ]
  },
  {
   "cell_type": "code",
   "execution_count": 33,
   "id": "d26dc947",
   "metadata": {},
   "outputs": [
    {
     "name": "stdout",
     "output_type": "stream",
     "text": [
      "{'earbuds': 20, 'microphones': 72, 'speakers': 14, 'headsets': 59, 'webcams': 37}\n"
     ]
    }
   ],
   "source": [
    " #Question06\n",
    "def fillable(f_stock, f_merch, f_n):\n",
    "    if f_stock[f_merch] >= f_n:\n",
    "        return True\n",
    "    else:\n",
    "        return False\n",
    "\n",
    "stock={\"earbuds\": 20, \"microphones\": 72, \"speakers\": 14,\"headsets\": 59,\"webcams\": 37}\n",
    "print(stock)"
   ]
  },
  {
   "cell_type": "code",
   "execution_count": 35,
   "id": "22db4a40",
   "metadata": {},
   "outputs": [
    {
     "name": "stdout",
     "output_type": "stream",
     "text": [
      "Please write down what you want to buy\n",
      "earbuds\n",
      "Please write down number of units you want to buy\n",
      "21\n",
      "False\n"
     ]
    }
   ],
   "source": [
    "print(\"Please write down what you want to buy\")\n",
    "merch=input()\n",
    "print(\"Please write down number of units you want to buy\")\n",
    "n=int(input())\n",
    "print(fillable(stock,merch,n))"
   ]
  },
  {
   "cell_type": "code",
   "execution_count": null,
   "id": "2ca01e8b",
   "metadata": {},
   "outputs": [],
   "source": []
  }
 ],
 "metadata": {
  "kernelspec": {
   "display_name": "Python 3 (ipykernel)",
   "language": "python",
   "name": "python3"
  },
  "language_info": {
   "codemirror_mode": {
    "name": "ipython",
    "version": 3
   },
   "file_extension": ".py",
   "mimetype": "text/x-python",
   "name": "python",
   "nbconvert_exporter": "python",
   "pygments_lexer": "ipython3",
   "version": "3.9.12"
  }
 },
 "nbformat": 4,
 "nbformat_minor": 5
}
