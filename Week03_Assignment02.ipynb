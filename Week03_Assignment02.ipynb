{
 "cells": [
  {
   "cell_type": "code",
   "execution_count": 9,
   "id": "f3ea1beb-dd37-49e5-9782-053205fb8ba9",
   "metadata": {},
   "outputs": [
    {
     "name": "stdout",
     "output_type": "stream",
     "text": [
      "[2, 12, 34, 37, 45, 54, 56, 66, 67, 76, 98]\n",
      "The Sum of Two Lowest Number Is 14\n",
      "The Sum of Two Lowest Number Is 174\n"
     ]
    }
   ],
   "source": [
    "#Assignment 02 _03List\n",
    "#Question01\n",
    "#First of all we need to order the list\n",
    "my_list=[34, 56, 76, 45, 2, 12, 67, 98, 37, 54, 66]\n",
    "my_list.sort()\n",
    "print(my_list)\n",
    "print(\"The Sum of Two Lowest Number Is\",my_list[0]+my_list[1])\n",
    "print(\"The Sum of Two Highest Number Is\",my_list[len(my_list)-1]+my_list[len(my_list)-2])"
   ]
  },
  {
   "cell_type": "code",
   "execution_count": 39,
   "id": "b9a41ca6-9c05-4283-a644-27a7d2c852e9",
   "metadata": {},
   "outputs": [
    {
     "name": "stdin",
     "output_type": "stream",
     "text": [
      " John\n"
     ]
    },
    {
     "name": "stdout",
     "output_type": "stream",
     "text": [
      "3  Name: John Score: 78\n"
     ]
    }
   ],
   "source": [
    "#Question02\n",
    "names = [\"David\", \"Michael\", \"John\", \"James\", \"Greg\", \"Mark\", \"William\", \"Richard\", \"Thomas\", \"Steven\",   \"Mary\", \"Susan\", \"Maria\", \"Karen\", \"Lisa\", \"Linda\", \"Donna\", \"Patricia\", \"Debra\", \"Eric\"]\n",
    "scores = [99, 87, 78, 86, 68, 94, 76, 97, 56, 98, 76, 87, 79, 90, 73, 93, 82, 69, 97, 98]\n",
    "##Listing All\n",
    "#i=0\n",
    "#for j in names:\n",
    "#    print(i+1,\" Name:\",names[i],\"Score:\",scores[i])\n",
    "#    i=i+1\n",
    "name_input=input()\n",
    "i=0\n",
    "for j in names:\n",
    "    if names[i]==name_input:\n",
    "        print(i+1,\" Name:\",names[i],\"Score:\",scores[i])\n",
    "    i=i+1"
   ]
  },
  {
   "cell_type": "code",
   "execution_count": 89,
   "id": "50d603b1-34e5-45be-92f9-d47511983b5b",
   "metadata": {},
   "outputs": [
    {
     "name": "stdout",
     "output_type": "stream",
     "text": [
      "The Highest Score is: 99\n",
      "Student(s) with the Highest Score is (are):\n",
      "David\n",
      "Total Number of The Students got 99 is 1\n"
     ]
    }
   ],
   "source": [
    "#Question03\n",
    "i=0\n",
    "max_score=scores[i]\n",
    "for j in names:\n",
    "    if scores[i]>max_score:\n",
    "        max_score=scores[i]\n",
    "    i=i+1\n",
    "print(\"The Highest Score is:\",max_score)\n",
    "print(\"Student(s) with the Highest Score is (are):\")\n",
    "i=0\n",
    "student_count=0\n",
    "for j in names:\n",
    "    if scores[i]==max_score:\n",
    "        print(names[i])\n",
    "        student_count+=1\n",
    "    i=i+1\n",
    "print(\"Total Number of The Students got {} is {}\".format(max_score,student_count))"
   ]
  },
  {
   "cell_type": "code",
   "execution_count": 87,
   "id": "88bed1f3-bd90-49ee-a170-84b3c30908be",
   "metadata": {},
   "outputs": [
    {
     "name": "stdout",
     "output_type": "stream",
     "text": [
      "[['Jan', 31], ['Feb', 28], ['March', 31], ['April', 30], ['May', 31], ['June', 30], ['July', 31], ['Aug', 31], ['Sep', 30], ['Oct', 31], ['Nov', 30], ['Dec', 31]]\n"
     ]
    }
   ],
   "source": [
    "#Question04\n",
    "month_list=[[\"Jan\",31],[\"Feb\",28],[\"March\",31],[\"April\",30],[\"May\",31],[\"June\",30],[\"July\",31],[\"Aug\",31],[\"Sep\",30],[\"Oct\",31],[\"Nov\",30],[\"Dec\",31]]\n",
    "print(month_list)"
   ]
  },
  {
   "cell_type": "code",
   "execution_count": 44,
   "id": "4384e935-faed-4de8-8e34-9edb449dcca1",
   "metadata": {
    "tags": []
   },
   "outputs": [
    {
     "name": "stdout",
     "output_type": "stream",
     "text": [
      "[['Winter', 'Jan', 31], ['Winter', 'Feb', 28], ['Spring', 'March', 31], ['Spring', 'April', 30], ['Spring', 'May', 31], ['Summer', 'June', 30], ['Summer', 'July', 31], ['Summer', 'Aug', 31], ['Autumn', 'Sep', 30], ['Autumn', 'Oct', 31], ['Autumn', 'Nov', 30], ['Winter', 'Dec', 31]]\n"
     ]
    }
   ],
   "source": [
    "#Question05\n",
    "season_list=[[\"Winter\",\"Jan\",31],[\"Winter\",\"Feb\",28],[\"Spring\",\"March\",31],[\"Spring\",\"April\",30],[\"Spring\",\"May\",31],[\"Summer\",\"June\",30],[\"Summer\",\"July\",31],[\"Summer\",\"Aug\",31],[\"Autumn\",\"Sep\",30],[\"Autumn\",\"Oct\",31],[\"Autumn\",\"Nov\",30],[\"Winter\",\"Dec\",31]]\n",
    "print(season_list)"
   ]
  },
  {
   "cell_type": "code",
   "execution_count": 84,
   "id": "31399bd7-907d-46b1-a104-d1f99362ff02",
   "metadata": {},
   "outputs": [
    {
     "name": "stdout",
     "output_type": "stream",
     "text": [
      "Winter\n",
      "Sum of all days in Summer is: 92\n"
     ]
    }
   ],
   "source": [
    "#Question06\n",
    "i=0\n",
    "sum_of_season_days=0\n",
    "print(season_list[0][0])\n",
    "for j in season_list:\n",
    "    if season_list[i][0]==\"Summer\":\n",
    "        sum_of_season_days=sum_of_season_days+season_list[i][2]\n",
    "    i=i+1\n",
    "print(\"Sum of all days in Summer is:\",sum_of_season_days)    "
   ]
  },
  {
   "cell_type": "code",
   "execution_count": null,
   "id": "d9e55a51-3565-4583-b775-8427f5034609",
   "metadata": {},
   "outputs": [],
   "source": []
  }
 ],
 "metadata": {
  "kernelspec": {
   "display_name": "Python 3 (ipykernel)",
   "language": "python",
   "name": "python3"
  },
  "language_info": {
   "codemirror_mode": {
    "name": "ipython",
    "version": 3
   },
   "file_extension": ".py",
   "mimetype": "text/x-python",
   "name": "python",
   "nbconvert_exporter": "python",
   "pygments_lexer": "ipython3",
   "version": "3.10.4"
  }
 },
 "nbformat": 4,
 "nbformat_minor": 5
}
