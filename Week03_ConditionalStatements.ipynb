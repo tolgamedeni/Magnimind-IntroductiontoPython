{
 "cells": [
  {
   "cell_type": "code",
   "execution_count": 6,
   "id": "bcfba996",
   "metadata": {},
   "outputs": [
    {
     "name": "stdout",
     "output_type": "stream",
     "text": [
      "Please enter a value between 10 and 20 (inclusively)21\n",
      "Incorrect Answer\n"
     ]
    }
   ],
   "source": [
    "#Condional Statement Assignment \n",
    "#Question01\n",
    "value=int(input(\"Please enter a value between 10 and 20 (inclusively)\"))\n",
    "if value>=10 and value<=20:\n",
    "    print(\"Thank you\")\n",
    "else:\n",
    "    print(\"Incorrect Answer\")\n"
   ]
  },
  {
   "cell_type": "code",
   "execution_count": 10,
   "id": "da43f71f",
   "metadata": {},
   "outputs": [
    {
     "name": "stdout",
     "output_type": "stream",
     "text": [
      "Please enter a letter from the alphabett\n",
      "The letter is  t  is a consonant\n"
     ]
    }
   ],
   "source": [
    "#Question02\n",
    "letter=input(\"Please enter a letter from the alphabet\")\n",
    "vowel=[\"a\",\"e\",\"i\",\"o\",\"u\"]\n",
    "if letter in vowel:\n",
    "    print(\"Letter is \",letter,\" is a vowel\")\n",
    "elif letter=='y':\n",
    "    print(\"y is sometimes a vowel and sometimes a consonant\")\n",
    "else:\n",
    "    print(\"The letter is \",letter,\" is a consonant\")\n",
    "\n"
   ]
  },
  {
   "cell_type": "code",
   "execution_count": null,
   "id": "cba02746",
   "metadata": {},
   "outputs": [],
   "source": []
  }
 ],
 "metadata": {
  "kernelspec": {
   "display_name": "Python 3 (ipykernel)",
   "language": "python",
   "name": "python3"
  },
  "language_info": {
   "codemirror_mode": {
    "name": "ipython",
    "version": 3
   },
   "file_extension": ".py",
   "mimetype": "text/x-python",
   "name": "python",
   "nbconvert_exporter": "python",
   "pygments_lexer": "ipython3",
   "version": "3.9.12"
  }
 },
 "nbformat": 4,
 "nbformat_minor": 5
}
