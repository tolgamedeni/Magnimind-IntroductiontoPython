{
 "cells": [
  {
   "cell_type": "code",
   "execution_count": 1,
   "id": "9e1a3755-4c54-4155-9777-ebc35a3f3666",
   "metadata": {},
   "outputs": [
    {
     "name": "stdin",
     "output_type": "stream",
     "text": [
      "How many users will you Enter 5\n",
      "Please Enter A User Name tolga\n",
      "Please Enter A User Name tmedeni\n",
      "Please Enter A User Name tolgamedeni\n",
      "Please Enter A User Name ihsan\n",
      "Please Enter A User Name ihsanmedeni\n"
     ]
    },
    {
     "name": "stdout",
     "output_type": "stream",
     "text": [
      "['tolga', 'tmedeni', 'tolgamedeni', 'ihsan', 'ihsanmedeni']\n"
     ]
    }
   ],
   "source": [
    "#Week 04, For Assignment\n",
    "#Question01-Part01\n",
    "current_users=[]\n",
    "total_number_of_users=int(input(\"How many users will you Enter\"))\n",
    "for i in range(total_number_of_users):\n",
    "    current_users.append(input(\"Please Enter A User Name\"))\n",
    "print(current_users)\n"
   ]
  },
  {
   "cell_type": "code",
   "execution_count": 2,
   "id": "30fcdb69-d786-453d-8af4-bb1301c462ce",
   "metadata": {},
   "outputs": [
    {
     "name": "stdin",
     "output_type": "stream",
     "text": [
      "Please Enter A User Name tmedeni\n",
      "Please Enter A User Name tolga\n",
      "Please Enter A User Name tunc\n",
      "Please Enter A User Name medeni\n",
      "Please Enter A User Name tuncmedeni\n"
     ]
    },
    {
     "name": "stdout",
     "output_type": "stream",
     "text": [
      "['tmedeni', 'tolga', 'tunc', 'medeni', 'tuncmedeni']\n"
     ]
    }
   ],
   "source": [
    "#Question01-Part02\n",
    "new_users=[]\n",
    "total_number_of_users=5\n",
    "for i in range(total_number_of_users):\n",
    "    new_users.append(input(\"Please Enter A User Name\"))\n",
    "print(new_users)"
   ]
  },
  {
   "cell_type": "code",
   "execution_count": 10,
   "id": "22060b75-b1c3-4a6b-b148-9db6a67eb48f",
   "metadata": {},
   "outputs": [
    {
     "name": "stdout",
     "output_type": "stream",
     "text": [
      "The user name tolga  is taken you need to select another name\n",
      "The user name tmedeni  is taken you need to select another name\n"
     ]
    },
    {
     "name": "stdin",
     "output_type": "stream",
     "text": [
      "Please enter a new user name Can Ateş\n"
     ]
    },
    {
     "name": "stdout",
     "output_type": "stream",
     "text": [
      "You may use Can Ateş  as the new user\n"
     ]
    }
   ],
   "source": [
    "#Question01-Part03 Part04\n",
    "for i in range(total_number_of_users):\n",
    "    for j in range(total_number_of_users):\n",
    "        if current_users[i].lower()==new_users[j].lower():\n",
    "            print(\"The user name\",new_users[j], \" is taken you need to select another name\");\n",
    "new_user_name=input(\"Please enter a new user name\");\n",
    "for i in range(total_number_of_users):\n",
    "    if current_users[i].lower()==new_user_name.lower():\n",
    "        print(\"The user name\",new_user_name, \" is taken you need to select another name\");\n",
    "        break\n",
    "    else:\n",
    "        print(\"You may use\",new_user_name,\" as the new user name\");\n",
    "        break\n",
    "#The final part does not ask to append this new user, I left as it is"
   ]
  },
  {
   "cell_type": "code",
   "execution_count": 17,
   "id": "a7b736c4-e477-4994-98a7-4297583967c5",
   "metadata": {},
   "outputs": [
    {
     "name": "stdout",
     "output_type": "stream",
     "text": [
      "the probability is 0.40\n"
     ]
    }
   ],
   "source": [
    "#Question 02\n",
    "def color_probability(color,texture):\n",
    "    if color==\"red\" and texture==\"smooth\":\n",
    "        return \"the probability is {:.2f}\".format(1/10)\n",
    "    if color==\"red\" and texture==\"bumpy\":\n",
    "        return \"the probability is {:.2f}\".format(4/10)\n",
    "    if color==\"yellow\" and texture==\"bumpy\":\n",
    "        return \"the probability is {:.2f}\".format(2/10)\n",
    "    if color==\"yellow\" and texture==\"smooth\":\n",
    "        return \"the probability is {:.2f}\".format(1/10)\n",
    "    if color==\"green\" and texture==\"bumpy\":\n",
    "        return \"the probability is {:.2f}\".format(1/10)\n",
    "    if color==\"green\" and texture==\"smooth\":\n",
    "        return \"the probability is {:.2f}\".format(1/10)\n",
    "\n",
    "print(color_probability(\"red\",\"bumpy\"))\n"
   ]
  },
  {
   "cell_type": "code",
   "execution_count": 6,
   "id": "25e94988-a13c-4099-895d-8448936b8603",
   "metadata": {},
   "outputs": [
    {
     "name": "stdin",
     "output_type": "stream",
     "text": [
      "Please enter the age of the person 1000\n"
     ]
    },
    {
     "name": "stdout",
     "output_type": "stream",
     "text": [
      "Elder\n"
     ]
    }
   ],
   "source": [
    "#Question 03\n",
    "age=int(input(\"Please enter the age of the person\"))\n",
    "if age>0:\n",
    "    if age<2:\n",
    "        print(\"Baby\")\n",
    "    elif age<4:\n",
    "        print(\"Toddler\")\n",
    "    elif age<13:\n",
    "        print(\"kid\")\n",
    "    elif age<20:\n",
    "        print(\"Teenager\")\n",
    "    elif age<65:\n",
    "        print(\"Adult\")\n",
    "    elif age>=65:\n",
    "        print(\"Elder\")\n",
    "else:\n",
    "    print(\"Your value should be greater 0, please check the input\")"
   ]
  },
  {
   "cell_type": "code",
   "execution_count": 10,
   "id": "29ec180f-53f9-40bc-8c4c-88a9595fa866",
   "metadata": {},
   "outputs": [
    {
     "name": "stdout",
     "output_type": "stream",
     "text": [
      "-3 * -1 * 1 * --> 3\n"
     ]
    }
   ],
   "source": [
    "#Question 04\n",
    "data=[[2,5],[3,4],[8,7]]\n",
    "data2=[]\n",
    "for i in range(3):\n",
    "    data2.append(data[i][0]-data[i][1])\n",
    "result=1\n",
    "for i in range(3):\n",
    "    print(data2[i],\"* \",end=\"\")\n",
    "    result=result*data2[i]\n",
    "print(\"-->\",result)\n"
   ]
  },
  {
   "cell_type": "code",
   "execution_count": 69,
   "id": "3984c026-1b1a-4baf-9759-328a757c7265",
   "metadata": {},
   "outputs": [
    {
     "name": "stdout",
     "output_type": "stream",
     "text": [
      "[['Grae Drake', 98110], ['Bethany Kok'], ['Alex Nussbacher', 94101], ['Darrell Silver', 11201]]\n",
      "{'Grae Drake': 98110, 'Bethany Kok': None, 'Alex Nussbacher': 94101, 'Darrell Silver': 11201}\n"
     ]
    }
   ],
   "source": [
    "#Question 05\n",
    "def user_contacts(lst):\n",
    "    \n",
    "    dict_user={}\n",
    "    \n",
    "\n",
    "    for i in range(0,len(lst)):\n",
    "        try:\n",
    "            dict_user.update({lst[i][0]:lst[i][1]})\n",
    "        \n",
    "        except IndexError:\n",
    "            dict_user.update({lst[i][0]:None})\n",
    "        else:\n",
    "            dict_user.update({lst[i][0]:lst[i][1]})\n",
    "        \n",
    "       \n",
    "           \n",
    "    return dict_user\n",
    "\n",
    "\n",
    "    \n",
    "\n",
    "list_user=[[\"Grae Drake\", 98110], [\"Bethany Kok\"], [\"Alex Nussbacher\", 94101], [\"Darrell Silver\", 11201]]\n",
    "print(list_user)\n",
    "print(user_contacts(list_user))\n"
   ]
  },
  {
   "cell_type": "code",
   "execution_count": null,
   "id": "f4b4373c-48a7-438a-8e52-70f074ef5d98",
   "metadata": {},
   "outputs": [],
   "source": []
  }
 ],
 "metadata": {
  "kernelspec": {
   "display_name": "Python 3 (ipykernel)",
   "language": "python",
   "name": "python3"
  },
  "language_info": {
   "codemirror_mode": {
    "name": "ipython",
    "version": 3
   },
   "file_extension": ".py",
   "mimetype": "text/x-python",
   "name": "python",
   "nbconvert_exporter": "python",
   "pygments_lexer": "ipython3",
   "version": "3.10.4"
  }
 },
 "nbformat": 4,
 "nbformat_minor": 5
}
