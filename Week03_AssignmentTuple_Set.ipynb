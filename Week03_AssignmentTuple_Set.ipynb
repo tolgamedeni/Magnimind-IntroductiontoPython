{
 "cells": [
  {
   "cell_type": "code",
   "execution_count": 1,
   "id": "4ef918b5",
   "metadata": {},
   "outputs": [],
   "source": [
    "#Question01\n",
    "week=(\"Sunday\",\"Monday\",\"Tuesday\",\"Wednesday\",\"Thursday\",\"Friday\",\"Saturday\")"
   ]
  },
  {
   "cell_type": "code",
   "execution_count": 2,
   "id": "8a0fb008",
   "metadata": {},
   "outputs": [
    {
     "name": "stdout",
     "output_type": "stream",
     "text": [
      "('Sunday', 'Monday', 'Tuesday', 'Wednesday', 'Thursday', 'Friday', 'Saturday')\n"
     ]
    }
   ],
   "source": [
    "print(week)"
   ]
  },
  {
   "cell_type": "code",
   "execution_count": 3,
   "id": "a8f2dfb8",
   "metadata": {},
   "outputs": [
    {
     "name": "stdout",
     "output_type": "stream",
     "text": [
      "{'apple', 'mango', 'orange'}\n"
     ]
    }
   ],
   "source": [
    "#Question02\n",
    "fruits={\"apple\",\"mango\",\"orange\"}\n",
    "print(fruits)"
   ]
  },
  {
   "cell_type": "code",
   "execution_count": 4,
   "id": "0ba959ca",
   "metadata": {},
   "outputs": [
    {
     "name": "stdout",
     "output_type": "stream",
     "text": [
      "{'peach', 'cherry', 'apple', 'mango'}\n"
     ]
    }
   ],
   "source": [
    "#Question03\n",
    "new_fruits={\"cherry\",\"peach\",\"apple\",\"mango\"}\n",
    "print(new_fruits)"
   ]
  },
  {
   "cell_type": "code",
   "execution_count": 6,
   "id": "f6d8b583",
   "metadata": {},
   "outputs": [
    {
     "name": "stdout",
     "output_type": "stream",
     "text": [
      "{'peach', 'cherry'}\n"
     ]
    }
   ],
   "source": [
    "#Question04, This is a set difference operation\n",
    "print(new_fruits-fruits)"
   ]
  },
  {
   "cell_type": "code",
   "execution_count": 8,
   "id": "d64e4d66",
   "metadata": {},
   "outputs": [
    {
     "name": "stdout",
     "output_type": "stream",
     "text": [
      "{'apple', 'mango'}\n"
     ]
    }
   ],
   "source": [
    "#Question05, This is an intersection operation\n",
    "print(fruits.intersection(new_fruits))"
   ]
  },
  {
   "cell_type": "code",
   "execution_count": null,
   "id": "bbea3110",
   "metadata": {},
   "outputs": [],
   "source": []
  }
 ],
 "metadata": {
  "kernelspec": {
   "display_name": "Python 3 (ipykernel)",
   "language": "python",
   "name": "python3"
  },
  "language_info": {
   "codemirror_mode": {
    "name": "ipython",
    "version": 3
   },
   "file_extension": ".py",
   "mimetype": "text/x-python",
   "name": "python",
   "nbconvert_exporter": "python",
   "pygments_lexer": "ipython3",
   "version": "3.9.12"
  }
 },
 "nbformat": 4,
 "nbformat_minor": 5
}
