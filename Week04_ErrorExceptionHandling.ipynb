{
 "cells": [
  {
   "cell_type": "code",
   "execution_count": 6,
   "id": "4751249f-e859-4b09-83e7-77dfe16ff1da",
   "metadata": {},
   "outputs": [
    {
     "name": "stdout",
     "output_type": "stream",
     "text": [
      "You can not divide a number by zero\n"
     ]
    }
   ],
   "source": [
    "#Week04-Error - Exception Assignment\n",
    "#Question01\n",
    "def operationDivision(num1,num2):\n",
    "    return num1/num2\n",
    "try:\n",
    "    operationDivision(1/0)#Question01\n",
    "except ZeroDivisionError as e:\n",
    "    #Question01\n",
    "    print(\"You can not divide a number by zero\")\n",
    "    \n"
   ]
  },
  {
   "cell_type": "code",
   "execution_count": 7,
   "id": "c3c00e7c-db6e-4fa9-95c2-62326d470134",
   "metadata": {},
   "outputs": [
    {
     "name": "stdout",
     "output_type": "stream",
     "text": [
      "You can not divide a number by zero\n"
     ]
    }
   ],
   "source": [
    "#Question02-just with NameError\n",
    "def operationDivision(num1,num2):\n",
    "    return num1/num2\n",
    "try:\n",
    "    operationDiv(1/0)#try to call an undefined func\n",
    "except NameError as e:\n",
    "    #Question02\n",
    "    print(\"You are trying to call an undefined functions\")\n",
    "    "
   ]
  },
  {
   "cell_type": "code",
   "execution_count": 8,
   "id": "9703155d-56ad-40f0-aacd-c8641354928a",
   "metadata": {},
   "outputs": [
    {
     "name": "stdout",
     "output_type": "stream",
     "text": [
      "Either you try to dividde by zero or you try to call with a wrong naming\n"
     ]
    }
   ],
   "source": [
    "#Question02- calling with multiple error\n",
    "\n",
    "def operationDivision(num1,num2):\n",
    "    return num1/num2\n",
    "try:\n",
    "    operationDiv(1/0)#try to call an undefined func\n",
    "except (ZeroDivisionError,NameError) as e:\n",
    "    #Question02\n",
    "    print(\"Either you try to divide by zero or you try to call with a wrong naming\")"
   ]
  },
  {
   "cell_type": "code",
   "execution_count": 10,
   "id": "f903c1e6-6aab-4ff8-8456-9415175b6c55",
   "metadata": {},
   "outputs": [
    {
     "name": "stdin",
     "output_type": "stream",
     "text": [
      "Please Enter the First Value tolga\n"
     ]
    },
    {
     "name": "stdout",
     "output_type": "stream",
     "text": [
      "You are trying to send a string value\n"
     ]
    }
   ],
   "source": [
    "#Question03 - StringInput Exception Handling\n",
    "\n",
    "def operationDivision(num1,num2):\n",
    "    return num1/num2\n",
    "try:\n",
    "    operationDivision(int(input(\"Please Enter the First Value\"))/int(input(\"Please Enter the Second Value\")))#as input I am sending \"tolga\" (string)\n",
    "except ValueError as e:\n",
    "    #Question03\n",
    "    print(\"You are trying to send a string value\")"
   ]
  },
  {
   "cell_type": "code",
   "execution_count": 16,
   "id": "3d2eec34-0c19-404d-8f33-19668a97b6c9",
   "metadata": {},
   "outputs": [
    {
     "name": "stdin",
     "output_type": "stream",
     "text": [
      "Please enter The Diameter Value oniki\n"
     ]
    },
    {
     "name": "stdout",
     "output_type": "stream",
     "text": [
      "You are trying to send a string value\n"
     ]
    }
   ],
   "source": [
    "#The Circumference of a circule is 2PiDiameter/2=PiDiameter\n",
    "#pi is 3.14\n",
    "def Circumference_Circle(diameter):\n",
    "    return 3.14*diameter\n",
    "\n",
    "try:\n",
    "    print(Circumference_Circle(float(input(\"Please enter The Diameter Value\"))))\n",
    "except ValueError as e:\n",
    "    #Question04\n",
    "    print(\"You are trying to send a string value\")\n",
    "    \n"
   ]
  },
  {
   "cell_type": "code",
   "execution_count": null,
   "id": "a43a6391-86c4-4276-a1e2-d5f0cb2e2309",
   "metadata": {},
   "outputs": [],
   "source": []
  }
 ],
 "metadata": {
  "kernelspec": {
   "display_name": "Python 3 (ipykernel)",
   "language": "python",
   "name": "python3"
  },
  "language_info": {
   "codemirror_mode": {
    "name": "ipython",
    "version": 3
   },
   "file_extension": ".py",
   "mimetype": "text/x-python",
   "name": "python",
   "nbconvert_exporter": "python",
   "pygments_lexer": "ipython3",
   "version": "3.10.4"
  }
 },
 "nbformat": 4,
 "nbformat_minor": 5
}
