{
 "cells": [
  {
   "cell_type": "code",
   "execution_count": 2,
   "id": "2cdf2a38",
   "metadata": {},
   "outputs": [
    {
     "name": "stdout",
     "output_type": "stream",
     "text": [
      "Please Enter Your Name\n",
      "Tolga\n",
      "Please Enter Your Surname\n",
      "Medeni\n",
      "Full name with lower case: tolgamedeni\n"
     ]
    }
   ],
   "source": [
    "#String Assignment\n",
    "#Question01\n",
    "print(\"Please Enter Your Name\")\n",
    "name=input()\n",
    "print(\"Please Enter Your Surname\")\n",
    "surname=input()\n",
    "name=name.lower()\n",
    "surname=surname.lower()\n",
    "fullname=name+surname\n",
    "print(\"Full name with lower case:\",fullname)"
   ]
  },
  {
   "cell_type": "code",
   "execution_count": 15,
   "id": "abbd2859",
   "metadata": {},
   "outputs": [
    {
     "name": "stdout",
     "output_type": "stream",
     "text": [
      "Please Enter the First Line Of the Poem\n",
      "Deep into that darkness peering,\n",
      "The firstLine is Deep into that darkness peering, \n",
      "The length is: 32\n",
      "Please Enter the Start Position\n",
      "2\n",
      "Please Enter the End Position\n",
      "12\n",
      "eep into th\n"
     ]
    }
   ],
   "source": [
    "#Question02\n",
    "print(\"Please Enter the First Line Of the Poem\")\n",
    "firstLine=input()\n",
    "length=str(len(firstLine))\n",
    "print(\"The firstLine is\",firstLine,\"\\nThe length is:\",length)\n",
    "print(\"Please Enter the Start Position\")\n",
    "start=int(input())\n",
    "start=start-1#Index Value Follows One Value Below\n",
    "print(\"Please Enter the End Position\")\n",
    "end=int(input())\n",
    "#To be able to get the 12th element, which is index number 11, we left as it is, python array do not get the last array\n",
    "\n",
    "print(firstLine[start:end])"
   ]
  },
  {
   "cell_type": "code",
   "execution_count": 23,
   "id": "1e7a9941",
   "metadata": {},
   "outputs": [
    {
     "name": "stdout",
     "output_type": "stream",
     "text": [
      "Please Enter the Text\n",
      "The reason why we remove it is because Python process these white space and if we have no idea about white spaces, there cannot properly process the text.\n",
      "Orginal Text:\n",
      " The reason why we remove it is because Python process these white space and if we have no idea about white spaces, there cannot properly process the text.\n",
      "Removed:\n",
      " he reason why we remove it is because Python process these white space and if we have no idea about white spaces, there cannot properly process the text\n",
      "hereasonwhyweremoveitisbecausePythonprocessthesewhitespaceandifwehavenoideaaboutwhitespaces,therecannotproperlyprocessthetext\n"
     ]
    }
   ],
   "source": [
    "#Question03\n",
    "#Removing extra Characters beginning and the end:\n",
    "print(\"Please Enter the Text\")\n",
    "firstLine=input()\n",
    "print(\"Orginal Text:\\n\",firstLine)\n",
    "firstLine=firstLine[1:len(firstLine)-1]\n",
    "print(\"Removed:\\n\",firstLine)\n",
    "#The given text on the question is actually explain the reason of removing the white space\n",
    "#The reason why we remove it is because Python process these white space and if we have no idea about white spaces, there cannot properly process the text.\n",
    "#To remove the white space with this code:\n",
    "firstLine=firstLine.replace(\" \",\"\")\n",
    "print(firstLine)"
   ]
  },
  {
   "cell_type": "code",
   "execution_count": 41,
   "id": "f46f2d83",
   "metadata": {},
   "outputs": [
    {
     "name": "stdout",
     "output_type": "stream",
     "text": [
      "They are not equal\n",
      "Their types are no equal\n",
      "Type of x: <class 'int'> Type of y: <class 'str'>\n",
      "After updating type of y:\n",
      "Type of x: <class 'int'> Type of y: <class 'int'>\n"
     ]
    }
   ],
   "source": [
    "#Variable Assignment\n",
    "#Question01\n",
    "x=1\n",
    "y='1'\n",
    "if x==y:\n",
    "    print(\"They are equal\")\n",
    "else:\n",
    "    print(\"They are not equal\")\n",
    "if type(x)==type(y):\n",
    "    print(\"Their types are equal\")\n",
    "else:\n",
    "    print(\"Their types are no equal\")\n",
    "print(\"Type of x:\",type(x),\"Type of y:\",type(y))\n",
    "#Question02\n",
    "y=int(y)\n",
    "print(\"After updating type of y:\\nType of x:\",type(x),\"Type of y:\",type(y))\n"
   ]
  },
  {
   "cell_type": "code",
   "execution_count": 56,
   "id": "b771f2ef",
   "metadata": {},
   "outputs": [
    {
     "name": "stdout",
     "output_type": "stream",
     "text": [
      "Final GrowthRate is:221.07%\n",
      "The Result is:2210.68\n"
     ]
    }
   ],
   "source": [
    "#Data Types Assignment\n",
    "#Question01\n",
    "capital=1000\n",
    "dailyGrowth=1.12\n",
    "period=7\n",
    "#Because you said daily increase, the increased value also added to daily this the value at the end of seven days(like compound interest)\n",
    "for i in range(period):\n",
    "    capital=capital*dailyGrowth\n",
    "print(\"Final GrowthRate is:{:.2f}%\".format(capital/1000*100))\n",
    "print(\"The Result is:{:.2f}\".format(capital))"
   ]
  },
  {
   "cell_type": "code",
   "execution_count": 60,
   "id": "5f273e4b",
   "metadata": {},
   "outputs": [
    {
     "name": "stdout",
     "output_type": "stream",
     "text": [
      "When we buy bitcoin with 1000 USD at the beginning of the week, we would earn 2210.68 USD at the end of the week, with an average gain of 12% daily, weeklky compound gain is:221.07.\n"
     ]
    }
   ],
   "source": [
    "#Question02\n",
    "print(\"When we buy bitcoin with {} USD at the beginning of the week, we would earn {:.2f} USD at the end of the week, with an average gain of {}% daily, weeklky compound gain is:{:.2f}%.\".format(1000,capital,12,capital/1000*100))"
   ]
  },
  {
   "cell_type": "code",
   "execution_count": 62,
   "id": "7248ea8b",
   "metadata": {},
   "outputs": [
    {
     "name": "stdout",
     "output_type": "stream",
     "text": [
      "Please enter the Fahrenheit value:\n",
      "26\n",
      "The Temp in C is:-3.33\n"
     ]
    }
   ],
   "source": [
    "#Question03\n",
    "print(\"Please enter the Fahrenheit value:\")\n",
    "fValue=float(input())\n",
    "print(\"The Temp in C is:{:.2f}\".format((5/9)*(fValue-32)))"
   ]
  },
  {
   "cell_type": "code",
   "execution_count": 69,
   "id": "727110ce",
   "metadata": {},
   "outputs": [
    {
     "name": "stdout",
     "output_type": "stream",
     "text": [
      "365\n",
      "The Sum of digits in number is: 14\n"
     ]
    }
   ],
   "source": [
    "#Question04\n",
    "number=int(input())\n",
    "first_value=int(number/100)\n",
    "second_value=int((number-first_value*100)/10)\n",
    "third_value=number%10;\n",
    "print(\"The Sum of digits in number is:\",first_value+second_value+third_value)"
   ]
  },
  {
   "cell_type": "code",
   "execution_count": 72,
   "id": "d8ec157f",
   "metadata": {},
   "outputs": [
    {
     "name": "stdout",
     "output_type": "stream",
     "text": [
      "Please enter the first side:\n",
      "6\n",
      "Please enter the second side:\n",
      "8\n",
      "The Hypotenuse is: 10\n"
     ]
    }
   ],
   "source": [
    "#Question05\n",
    "print(\"Please enter the first side:\")\n",
    "a=int(input())\n",
    "print(\"Please enter the second side:\")\n",
    "b=int(input())\n",
    "print(\"The Hypotenuse is:\",int((a**2+b**2)**(1/2)))"
   ]
  },
  {
   "cell_type": "code",
   "execution_count": 73,
   "id": "0a148fe2",
   "metadata": {},
   "outputs": [
    {
     "name": "stdout",
     "output_type": "stream",
     "text": [
      "Tolga Medeni\n"
     ]
    }
   ],
   "source": [
    "#Python Basics Assignment\n",
    "#Question01\n",
    "print(\"Tolga Medeni\")\n",
    "    "
   ]
  },
  {
   "cell_type": "code",
   "execution_count": 74,
   "id": "0121473f",
   "metadata": {},
   "outputs": [
    {
     "name": "stdout",
     "output_type": "stream",
     "text": [
      "Tolga\n",
      "Medeni\n"
     ]
    }
   ],
   "source": [
    "#Question02\n",
    "print(\"Tolga\\nMedeni\")"
   ]
  },
  {
   "cell_type": "code",
   "execution_count": 78,
   "id": "7961a6a0",
   "metadata": {},
   "outputs": [
    {
     "name": "stdout",
     "output_type": "stream",
     "text": [
      "'I don't want to be an \"artist\". I want to be a \"Data Scientist.\"'\n"
     ]
    }
   ],
   "source": [
    "#Question03\n",
    "print(\"\\'I don\\'t want to be an \\\"artist\\\". I want to be a \\\"Data Scientist.\\\"\\'\")"
   ]
  },
  {
   "cell_type": "code",
   "execution_count": null,
   "id": "461c0e64",
   "metadata": {},
   "outputs": [],
   "source": []
  }
 ],
 "metadata": {
  "kernelspec": {
   "display_name": "Python 3 (ipykernel)",
   "language": "python",
   "name": "python3"
  },
  "language_info": {
   "codemirror_mode": {
    "name": "ipython",
    "version": 3
   },
   "file_extension": ".py",
   "mimetype": "text/x-python",
   "name": "python",
   "nbconvert_exporter": "python",
   "pygments_lexer": "ipython3",
   "version": "3.9.12"
  }
 },
 "nbformat": 4,
 "nbformat_minor": 5
}
